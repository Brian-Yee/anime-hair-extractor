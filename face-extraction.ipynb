{
 "cells": [
  {
   "cell_type": "code",
   "execution_count": 1,
   "metadata": {
    "collapsed": true
   },
   "outputs": [],
   "source": [
    "%matplotlib inline\n",
    "import cv2\n",
    "import os\n",
    "import scipy\n",
    "import matplotlib.pyplot as plt\n",
    "import pandas as pd\n",
    "\n",
    "pwd = os.getcwd()"
   ]
  },
  {
   "cell_type": "code",
   "execution_count": 2,
   "metadata": {
    "collapsed": false
   },
   "outputs": [],
   "source": [
    "def detect(filename, cascade_file = '/'.join([pwd, \"lbpcascade_animeface.xml\"])):\n",
    "    \"\"\"Modifed from example: github.com/nagadomi/lbpcascade_animeface.\"\"\"\n",
    "    if not os.path.isfile(cascade_file):\n",
    "        raise RuntimeError(\"%s: not found\" % cascade_file)\n",
    "\n",
    "    cascade = cv2.CascadeClassifier(cascade_file)\n",
    "    image = cv2.imread(filename)\n",
    "    gray = cv2.cvtColor(image, cv2.COLOR_BGR2GRAY)\n",
    "    gray = cv2.equalizeHist(gray)\n",
    "\n",
    "    faces = cascade.detectMultiScale(gray,\n",
    "                                     # detector options\n",
    "                                     scaleFactor = 1.1,\n",
    "                                     minNeighbors = 5,\n",
    "                                     minSize = (24, 24))\n",
    "\n",
    "    name = filename.split('/')[-1].split('.')[0]\n",
    "    j_faces = [[s, faces[0][e]] for e, s in enumerate(list('xywh'))]\n",
    "    pd.DataFrame(j_faces).set_index(0).to_json(\"faces/jsons/\"+name+\".json\")\n",
    "\n",
    "    if (len(faces)>0):\n",
    "        cv2.imwrite(\"faces/pngs/\"+name+\".png\", image)\n",
    "    return faces"
   ]
  },
  {
   "cell_type": "code",
   "execution_count": 4,
   "metadata": {
    "collapsed": true
   },
   "outputs": [],
   "source": [
    "def loadImage(f):\n",
    "    x, y, w, h = detect(f)\n",
    "    img = {'full': scipy.ndimage.imread(f)}\n",
    "    w4, h4, Y = w/4.0, h/4.0, img['full'].shape[0]\n",
    "    img['hair'] = img['full'][x:x+w, y-h4:y+h4]\n",
    "    img['deco'] = img['full'][x+w4:x+3*w4, y+h4:Y]\n",
    "    return img"
   ]
  },
  {
   "cell_type": "code",
   "execution_count": 8,
   "metadata": {
    "collapsed": false
   },
   "outputs": [],
   "source": [
    "files = ['/'.join([pwd, 'faces/pngs', x]) for x in os.listdir('faces/pngs')]\n",
    "for f in files:\n",
    "    detect(f)"
   ]
  },
  {
   "cell_type": "code",
   "execution_count": null,
   "metadata": {
    "collapsed": true
   },
   "outputs": [],
   "source": []
  }
 ],
 "metadata": {
  "kernelspec": {
   "display_name": "Python 2",
   "language": "python",
   "name": "python2"
  },
  "language_info": {
   "codemirror_mode": {
    "name": "ipython",
    "version": 2
   },
   "file_extension": ".py",
   "mimetype": "text/x-python",
   "name": "python",
   "nbconvert_exporter": "python",
   "pygments_lexer": "ipython2",
   "version": "2.7.11"
  }
 },
 "nbformat": 4,
 "nbformat_minor": 0
}
